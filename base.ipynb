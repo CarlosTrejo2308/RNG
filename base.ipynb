{
 "cells": [
  {
   "cell_type": "code",
   "execution_count": 2,
   "metadata": {},
   "outputs": [
    {
     "data": {
      "image/png": "[encoded data removed]",
      "text/plain": [
       "<IPython.core.display.Image object>"
      ]
     },
     "execution_count": 2,
     "metadata": {},
     "output_type": "execute_result"
    }
   ],
   "source": [
    "# Random\n",
    "import requests\n",
    "from IPython.display import Image\n",
    "\n",
    "url = \"https://imgs.xkcd.com/comics/random_number.png\"\n",
    "response = requests.get(url)\n",
    "Image(response.content)"
   ]
  },
  {
   "cell_type": "markdown",
   "metadata": {},
   "source": [
    "# Buen RNG\n",
    "1. 15 dígitos\n",
    "2. Uniformemente distribuido\n",
    "3. Estadisticamente idependiente\n",
    "4. Periodo largo\n",
    "\n",
    "```\n",
    "Almost all module functions depend on the basic function random(), which generates a random float uniformly in the semi-open range [0.0, 1.0). Python uses the Mersenne Twister as the core generator. It produces 53-bit precision floats and has a period of 2**19937-1\n",
    "```"
   ]
  },
  {
   "cell_type": "code",
   "execution_count": 3,
   "metadata": {},
   "outputs": [
    {
     "name": "stdout",
     "output_type": "stream",
     "text": [
      "[0.9664535356921388, 0.4407325991753527, 0.007491470058587191, 0.9109759624491242, 0.939268997363764, 0.5822275730589491, 0.6715634814879851, 0.08393822683708396, 0.7664809327917963, 0.23680977536311776]\n"
     ]
    }
   ],
   "source": [
    "# Random number with seed\n",
    "import random\n",
    "random.seed(1234)\n",
    "\n",
    "randoms = [random.random() for _ in range(10)]\n",
    "print(randoms)"
   ]
  },
  {
   "cell_type": "code",
   "execution_count": 26,
   "metadata": {},
   "outputs": [
    {
     "name": "stdout",
     "output_type": "stream",
     "text": [
      "1\n",
      "True\n",
      "0\n",
      "False\n",
      "0\n",
      "False\n",
      "0\n",
      "True\n",
      "1\n",
      "True\n"
     ]
    }
   ],
   "source": [
    "# Numero de 0 o 1\n",
    "random.seed(1234)\n",
    "\n",
    "for _ in range(5):\n",
    "    print(random.randint(0, 1))\n",
    "\n",
    "    if random.random() < 0.5:\n",
    "        print('True')\n",
    "    else:\n",
    "        print('False')"
   ]
  },
  {
   "cell_type": "code",
   "execution_count": null,
   "metadata": {},
   "outputs": [],
   "source": [
    "from IPython.display import YouTubeVideo\n",
    "lava_lamps = YouTubeVideo(\"1cUUfMeOijg\")\n",
    "display(lava_lamps)"
   ]
  },
  {
   "cell_type": "code",
   "execution_count": 5,
   "metadata": {},
   "outputs": [
    {
     "name": "stdout",
     "output_type": "stream",
     "text": [
      "[-1.35852801 -1.15616959  0.32378638 -0.34018517 -0.08588527 -2.02656016\n",
      "  1.37349223  0.16540256  0.85233741  0.20028291]\n",
      "[ 0.77184775 -0.31727673 -1.77937679 -1.16532817 -0.37512454  1.09581004\n",
      "  1.76934784 -0.70556991  0.35251338 -1.73110107]\n"
     ]
    },
    {
     "data": {
      "text/plain": [
       "<AxesSubplot:>"
      ]
     },
     "execution_count": 5,
     "metadata": {},
     "output_type": "execute_result"
    },
    {
     "data": {
      "image/png": "[encoded data removed]",
      "text/plain": [
       "<Figure size 432x288 with 1 Axes>"
      ]
     },
     "metadata": {
      "needs_background": "light"
     },
     "output_type": "display_data"
    }
   ],
   "source": [
    "# Normal distribution\n",
    "from numpy.random import default_rng\n",
    "rng = default_rng(seed = 1236)\n",
    "vals = rng.standard_normal(10)\n",
    "more_vals = rng.standard_normal(10)\n",
    "print(vals)\n",
    "print(more_vals)\n",
    "\n",
    "import pandas as pd\n",
    "df = pd.DataFrame({'vals': vals})\n",
    "frequencia = df.vals\n",
    "frequencia.plot(kind='bar')"
   ]
  },
  {
   "cell_type": "code",
   "execution_count": 6,
   "metadata": {},
   "outputs": [
    {
     "data": {
      "text/plain": [
       "<AxesSubplot:>"
      ]
     },
     "execution_count": 6,
     "metadata": {},
     "output_type": "execute_result"
    },
    {
     "data": {
      "image/png": "[encoded data removed]",
      "text/plain": [
       "<Figure size 432x288 with 1 Axes>"
      ]
     },
     "metadata": {
      "needs_background": "light"
     },
     "output_type": "display_data"
    }
   ],
   "source": [
    "# Uniform distribution\n",
    "from numpy.random import default_rng\n",
    "rng = default_rng(seed = 12349)\n",
    "vals = rng.uniform(0, 1, 100)\n",
    "\n",
    "import pandas as pd\n",
    "df = pd.DataFrame({'vals': vals})\n",
    "frequencia = df.vals\n",
    "frequencia.plot(kind='bar')\n"
   ]
  },
  {
   "cell_type": "code",
   "execution_count": 7,
   "metadata": {},
   "outputs": [
    {
     "data": {
      "text/plain": [
       "<AxesSubplot:>"
      ]
     },
     "execution_count": 7,
     "metadata": {},
     "output_type": "execute_result"
    },
    {
     "data": {
      "image/png": "[encoded data removed]",
      "text/plain": [
       "<Figure size 432x288 with 1 Axes>"
      ]
     },
     "metadata": {
      "needs_background": "light"
     },
     "output_type": "display_data"
    }
   ],
   "source": [
    "# Discrete distribution\n",
    "import random\n",
    "random.seed(752153)\n",
    "values = [1, 2, 3, 4, 5]\n",
    "weights = [0.1, 0.3, 0.1, 0.1, 0.3]\n",
    "\n",
    "results = random.choices(values, weights, k=100)\n",
    "\n",
    "import pandas as pd\n",
    "df = pd.DataFrame({'vals': results})\n",
    "frequencia = df.vals.value_counts()\n",
    "frequencia.plot(kind='bar')"
   ]
  }
 ],
 "metadata": {
  "kernelspec": {
   "display_name": "Python 3.9.5 64-bit",
   "language": "python",
   "name": "python3"
  },
  "language_info": {
   "codemirror_mode": {
    "name": "ipython",
    "version": 3
   },
   "file_extension": ".py",
   "mimetype": "text/x-python",
   "name": "python",
   "nbconvert_exporter": "python",
   "pygments_lexer": "ipython3",
   "version": "3.9.5"
  },
  "orig_nbformat": 4,
  "vscode": {
   "interpreter": {
    "hash": "abda343d31edc18ef9cd745fb9d8fec11ceb3b3de4df0354c424e97df0c635f1"
   }
  }
 },
 "nbformat": 4,
 "nbformat_minor": 2
}
